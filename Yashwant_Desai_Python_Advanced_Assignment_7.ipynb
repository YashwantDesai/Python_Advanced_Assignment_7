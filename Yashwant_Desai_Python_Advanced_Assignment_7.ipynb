{
 "cells": [
  {
   "cell_type": "markdown",
   "id": "0c27a818",
   "metadata": {},
   "source": [
    "# Yashwant Desai –  Python_Advanced_Assignment_7"
   ]
  },
  {
   "cell_type": "markdown",
   "id": "2705678c",
   "metadata": {},
   "source": [
    "# Q1. What is the purpose of the try statement?"
   ]
  },
  {
   "cell_type": "markdown",
   "id": "bb07a956",
   "metadata": {},
   "source": [
    "The try statement is used for exception handling. It allows us to write code that can handle and recover from unexpected errors or exceptions that may occur during program execution. This helps prevent the program from crashing and allows us to specify how to respond to different types of exceptions when they occur using except blocks. Additionally we can use else and finally clauses for handling cases when no exceptions occur and for cleanup code respectively."
   ]
  },
  {
   "cell_type": "code",
   "execution_count": 3,
   "id": "9d98f706",
   "metadata": {},
   "outputs": [
    {
     "name": "stdout",
     "output_type": "stream",
     "text": [
      "Division by zero is not allowed.\n",
      "This cleanup code always runs.\n"
     ]
    }
   ],
   "source": [
    "try:\n",
    "    result = 88 / 0\n",
    "except ZeroDivisionError:\n",
    "    print(\"Division by zero is not allowed.\")\n",
    "else:\n",
    "    print(\"The result is:\", result)\n",
    "finally:\n",
    "    print(\"This cleanup code always runs.\")"
   ]
  },
  {
   "cell_type": "markdown",
   "id": "57f77f2d",
   "metadata": {},
   "source": [
    "# Q2. What are the two most popular try statement variations?"
   ]
  },
  {
   "cell_type": "markdown",
   "id": "8feb7dcf",
   "metadata": {},
   "source": [
    "Below are the two most popular variations of the try statement.\n",
    "\n",
    "1 try...except: Used for catching and handling specific exceptions that may occur within the try block.\n",
    "\n",
    "2 try...except...else...finally: Extends the basic structure to include else for code when no exceptions occur and finally for cleanup code that always runs."
   ]
  },
  {
   "cell_type": "code",
   "execution_count": 4,
   "id": "970aec7b",
   "metadata": {},
   "outputs": [
    {
     "name": "stdout",
     "output_type": "stream",
     "text": [
      "The result is: 11.0\n",
      "This cleanup code always runs.\n"
     ]
    }
   ],
   "source": [
    "try:\n",
    "    result = 88 / 8\n",
    "except ZeroDivisionError:\n",
    "    print(\"Division by zero is not allowed.\")\n",
    "else:\n",
    "    print(\"The result is:\", result)\n",
    "finally:\n",
    "    print(\"This cleanup code always runs.\")"
   ]
  },
  {
   "cell_type": "markdown",
   "id": "104947fa",
   "metadata": {},
   "source": [
    "# Q3. What is the purpose of the raise statement?"
   ]
  },
  {
   "cell_type": "markdown",
   "id": "6ae02fe8",
   "metadata": {},
   "source": [
    "The raise statement is used to deliberately trigger exceptions or errors in your code. Its primary purpose is to allow you to signal exceptional situations and provide error messages which can then be handled using try except blocks or other exception handling mechanisms."
   ]
  },
  {
   "cell_type": "code",
   "execution_count": 6,
   "id": "91703d51",
   "metadata": {},
   "outputs": [
    {
     "name": "stdout",
     "output_type": "stream",
     "text": [
      "Error: Division by zero is not allowed\n"
     ]
    }
   ],
   "source": [
    "def divide(x, y):\n",
    "    if y == 0:\n",
    "        raise ZeroDivisionError(\"Division by zero is not allowed\")\n",
    "    return x / y\n",
    "try:\n",
    "    result = divide(88, 0)\n",
    "except ZeroDivisionError as e:\n",
    "    print(f\"Error: {e}\")"
   ]
  },
  {
   "cell_type": "markdown",
   "id": "9f424173",
   "metadata": {},
   "source": [
    "# Q4. What does the assert statement do, and what other statement is it like?"
   ]
  },
  {
   "cell_type": "markdown",
   "id": "62aa8563",
   "metadata": {},
   "source": [
    "The assert statement is used for debugging and testing by checking if a specified condition is True. If the condition is False it raises an AssertionError with an optional error message. It's similar to if statements but is primarily used to catch bugs in code during development and testing."
   ]
  },
  {
   "cell_type": "code",
   "execution_count": 14,
   "id": "fef8b04e",
   "metadata": {},
   "outputs": [
    {
     "name": "stdout",
     "output_type": "stream",
     "text": [
      "11.0\n"
     ]
    }
   ],
   "source": [
    "def divide(x, y):\n",
    "    assert y != 0, \"Division by zero is not allowed\"\n",
    "    return x / y\n",
    "result = divide(88, 8)\n",
    "print(result)"
   ]
  },
  {
   "cell_type": "markdown",
   "id": "17286374",
   "metadata": {},
   "source": [
    "# Q5. What is the purpose of the with/as argument, and what other statement is it like?"
   ]
  },
  {
   "cell_type": "markdown",
   "id": "0c8988e7",
   "metadata": {},
   "source": [
    "The with/as argument with statement is used for resource management making it easier to properly initialize and clean up resources like files or connections. It simplifies code and is similar in purpose to manual resource management with try finally blocks but offers more concise and readable code."
   ]
  },
  {
   "cell_type": "code",
   "execution_count": 17,
   "id": "0404622f",
   "metadata": {},
   "outputs": [],
   "source": [
    "with open(\"test.txt\", \"r\") as file:\n",
    "    content = file.read()"
   ]
  },
  {
   "cell_type": "code",
   "execution_count": 19,
   "id": "da87cba8",
   "metadata": {},
   "outputs": [],
   "source": [
    "file = open(\"test.txt\", \"r\")\n",
    "try:\n",
    "    content = file.read()\n",
    "finally:\n",
    "    file.close()"
   ]
  },
  {
   "cell_type": "markdown",
   "id": "a79c0885",
   "metadata": {},
   "source": [
    "# Done Regards,Yashwant"
   ]
  }
 ],
 "metadata": {
  "kernelspec": {
   "display_name": "Python 3 (ipykernel)",
   "language": "python",
   "name": "python3"
  },
  "language_info": {
   "codemirror_mode": {
    "name": "ipython",
    "version": 3
   },
   "file_extension": ".py",
   "mimetype": "text/x-python",
   "name": "python",
   "nbconvert_exporter": "python",
   "pygments_lexer": "ipython3",
   "version": "3.9.13"
  }
 },
 "nbformat": 4,
 "nbformat_minor": 5
}
